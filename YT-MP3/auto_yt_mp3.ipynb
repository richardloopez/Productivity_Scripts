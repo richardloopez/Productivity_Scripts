{
 "cells": [
  {
   "cell_type": "code",
   "execution_count": null,
   "id": "83f54d11",
   "metadata": {},
   "outputs": [
    {
     "name": "stdout",
     "output_type": "stream",
     "text": [
      "Iniciando monitor de favoritos de YouTube...\n"
     ]
    },
    {
     "name": "stderr",
     "output_type": "stream",
     "text": [
      "WARNING: [youtube:tab] YouTube said: INFO - 9 unavailable videos are hidden\n"
     ]
    },
    {
     "name": "stdout",
     "output_type": "stream",
     "text": [
      "Nuevo vídeo: EURODANCE 90's - Convidado Especial DJ MORPHEUZ -  SETMIX #15 2025 (ESPECIAL 2K INSCRITOS). Descargando...\n",
      "Descargando archivo número: 102\n",
      "[youtube] Extracting URL: https://www.youtube.com/watch?v=J2mlw9U5t9k\n",
      "[youtube] J2mlw9U5t9k: Downloading webpage\n",
      "[youtube] J2mlw9U5t9k: Downloading tv client config\n",
      "[youtube] J2mlw9U5t9k: Downloading tv player API JSON\n",
      "[youtube] J2mlw9U5t9k: Downloading ios player API JSON\n",
      "[youtube] J2mlw9U5t9k: Downloading m3u8 information\n",
      "[info] J2mlw9U5t9k: Downloading 1 format(s): 251\n",
      "[download] Destination: E:\\T\\musica_descargada\\A102#EURODANCE 90's - Convidado Especial DJ MORPHEUZ -  SETMIX #15 2025 (ESPECIAL 2K INSCRITOS).webm\n",
      "[download] 100% of   53.62MiB in 00:00:02 at 18.39MiB/s    \n",
      "[ExtractAudio] Destination: E:\\T\\musica_descargada\\A102#EURODANCE 90's - Convidado Especial DJ MORPHEUZ -  SETMIX #15 2025 (ESPECIAL 2K INSCRITOS).mp3\n",
      "Deleting original file E:\\T\\musica_descargada\\A102#EURODANCE 90's - Convidado Especial DJ MORPHEUZ -  SETMIX #15 2025 (ESPECIAL 2K INSCRITOS).webm (pass -k to keep)\n",
      "Esperando 1 minutos...\n"
     ]
    },
    {
     "name": "stderr",
     "output_type": "stream",
     "text": [
      "WARNING: [youtube:tab] YouTube said: INFO - 9 unavailable videos are hidden\n"
     ]
    },
    {
     "name": "stdout",
     "output_type": "stream",
     "text": [
      "Esperando 1 minutos...\n"
     ]
    },
    {
     "name": "stderr",
     "output_type": "stream",
     "text": [
      "WARNING: [youtube:tab] YouTube said: INFO - 9 unavailable videos are hidden\n"
     ]
    },
    {
     "name": "stdout",
     "output_type": "stream",
     "text": [
      "Esperando 1 minutos...\n"
     ]
    },
    {
     "ename": "KeyboardInterrupt",
     "evalue": "",
     "output_type": "error",
     "traceback": [
      "\u001b[1;31m---------------------------------------------------------------------------\u001b[0m",
      "\u001b[1;31mKeyboardInterrupt\u001b[0m                         Traceback (most recent call last)",
      "Cell \u001b[1;32mIn[4], line 88\u001b[0m\n\u001b[0;32m     85\u001b[0m         time\u001b[38;5;241m.\u001b[39msleep(INTERVALO_MINUTOS) \u001b[38;5;66;03m#* 60\u001b[39;00m\n\u001b[0;32m     87\u001b[0m \u001b[38;5;28;01mif\u001b[39;00m \u001b[38;5;18m__name__\u001b[39m \u001b[38;5;241m==\u001b[39m \u001b[38;5;124m\"\u001b[39m\u001b[38;5;124m__main__\u001b[39m\u001b[38;5;124m\"\u001b[39m:\n\u001b[1;32m---> 88\u001b[0m     main()\n",
      "Cell \u001b[1;32mIn[4], line 73\u001b[0m, in \u001b[0;36mmain\u001b[1;34m()\u001b[0m\n\u001b[0;32m     71\u001b[0m \u001b[38;5;28;01mwhile\u001b[39;00m \u001b[38;5;28;01mTrue\u001b[39;00m:\n\u001b[0;32m     72\u001b[0m     \u001b[38;5;28;01mtry\u001b[39;00m:\n\u001b[1;32m---> 73\u001b[0m         nuevos_videos \u001b[38;5;241m=\u001b[39m obtener_videos_nuevos()\n\u001b[0;32m     74\u001b[0m         \u001b[38;5;28;01mfor\u001b[39;00m video_id, title \u001b[38;5;129;01min\u001b[39;00m nuevos_videos:\n\u001b[0;32m     75\u001b[0m             \u001b[38;5;28;01mif\u001b[39;00m video_id \u001b[38;5;129;01mnot\u001b[39;00m \u001b[38;5;129;01min\u001b[39;00m descargados:\n",
      "Cell \u001b[1;32mIn[4], line 44\u001b[0m, in \u001b[0;36mobtener_videos_nuevos\u001b[1;34m()\u001b[0m\n\u001b[0;32m     37\u001b[0m ydl_opts \u001b[38;5;241m=\u001b[39m {\n\u001b[0;32m     38\u001b[0m     \u001b[38;5;124m'\u001b[39m\u001b[38;5;124mquiet\u001b[39m\u001b[38;5;124m'\u001b[39m: \u001b[38;5;28;01mTrue\u001b[39;00m,\n\u001b[0;32m     39\u001b[0m     \u001b[38;5;124m'\u001b[39m\u001b[38;5;124mextract_flat\u001b[39m\u001b[38;5;124m'\u001b[39m: \u001b[38;5;28;01mTrue\u001b[39;00m,\n\u001b[0;32m     40\u001b[0m     \u001b[38;5;124m'\u001b[39m\u001b[38;5;124mforce_generic_extractor\u001b[39m\u001b[38;5;124m'\u001b[39m: \u001b[38;5;28;01mTrue\u001b[39;00m,\n\u001b[0;32m     41\u001b[0m }\n\u001b[0;32m     43\u001b[0m \u001b[38;5;28;01mwith\u001b[39;00m YoutubeDL(ydl_opts) \u001b[38;5;28;01mas\u001b[39;00m ydl:\n\u001b[1;32m---> 44\u001b[0m     info \u001b[38;5;241m=\u001b[39m ydl\u001b[38;5;241m.\u001b[39mextract_info(FAVORITES_URL, download\u001b[38;5;241m=\u001b[39m\u001b[38;5;28;01mFalse\u001b[39;00m)\n\u001b[0;32m     45\u001b[0m     entries \u001b[38;5;241m=\u001b[39m info\u001b[38;5;241m.\u001b[39mget(\u001b[38;5;124m\"\u001b[39m\u001b[38;5;124mentries\u001b[39m\u001b[38;5;124m\"\u001b[39m, [])\n\u001b[0;32m     46\u001b[0m     \u001b[38;5;28;01mreturn\u001b[39;00m [(entry[\u001b[38;5;124m'\u001b[39m\u001b[38;5;124mid\u001b[39m\u001b[38;5;124m'\u001b[39m], entry[\u001b[38;5;124m'\u001b[39m\u001b[38;5;124mtitle\u001b[39m\u001b[38;5;124m'\u001b[39m]) \u001b[38;5;28;01mfor\u001b[39;00m entry \u001b[38;5;129;01min\u001b[39;00m entries]\n",
      "File \u001b[1;32m~\\AppData\\Roaming\\Python\\Python312\\site-packages\\yt_dlp\\YoutubeDL.py:1653\u001b[0m, in \u001b[0;36mYoutubeDL.extract_info\u001b[1;34m(self, url, download, ie_key, extra_info, process, force_generic_extractor)\u001b[0m\n\u001b[0;32m   1651\u001b[0m             \u001b[38;5;28;01mraise\u001b[39;00m ExistingVideoReached\n\u001b[0;32m   1652\u001b[0m         \u001b[38;5;28;01mbreak\u001b[39;00m\n\u001b[1;32m-> 1653\u001b[0m     \u001b[38;5;28;01mreturn\u001b[39;00m \u001b[38;5;28mself\u001b[39m\u001b[38;5;241m.\u001b[39m__extract_info(url, \u001b[38;5;28mself\u001b[39m\u001b[38;5;241m.\u001b[39mget_info_extractor(key), download, extra_info, process)\n\u001b[0;32m   1654\u001b[0m \u001b[38;5;28;01melse\u001b[39;00m:\n\u001b[0;32m   1655\u001b[0m     extractors_restricted \u001b[38;5;241m=\u001b[39m \u001b[38;5;28mself\u001b[39m\u001b[38;5;241m.\u001b[39mparams\u001b[38;5;241m.\u001b[39mget(\u001b[38;5;124m'\u001b[39m\u001b[38;5;124mallowed_extractors\u001b[39m\u001b[38;5;124m'\u001b[39m) \u001b[38;5;129;01mnot\u001b[39;00m \u001b[38;5;129;01min\u001b[39;00m (\u001b[38;5;28;01mNone\u001b[39;00m, [\u001b[38;5;124m'\u001b[39m\u001b[38;5;124mdefault\u001b[39m\u001b[38;5;124m'\u001b[39m])\n",
      "File \u001b[1;32m~\\AppData\\Roaming\\Python\\Python312\\site-packages\\yt_dlp\\YoutubeDL.py:1664\u001b[0m, in \u001b[0;36mYoutubeDL._handle_extraction_exceptions.<locals>.wrapper\u001b[1;34m(self, *args, **kwargs)\u001b[0m\n\u001b[0;32m   1662\u001b[0m \u001b[38;5;28;01mwhile\u001b[39;00m \u001b[38;5;28;01mTrue\u001b[39;00m:\n\u001b[0;32m   1663\u001b[0m     \u001b[38;5;28;01mtry\u001b[39;00m:\n\u001b[1;32m-> 1664\u001b[0m         \u001b[38;5;28;01mreturn\u001b[39;00m func(\u001b[38;5;28mself\u001b[39m, \u001b[38;5;241m*\u001b[39margs, \u001b[38;5;241m*\u001b[39m\u001b[38;5;241m*\u001b[39mkwargs)\n\u001b[0;32m   1665\u001b[0m     \u001b[38;5;28;01mexcept\u001b[39;00m (CookieLoadError, DownloadCancelled, LazyList\u001b[38;5;241m.\u001b[39mIndexError, PagedList\u001b[38;5;241m.\u001b[39mIndexError):\n\u001b[0;32m   1666\u001b[0m         \u001b[38;5;28;01mraise\u001b[39;00m\n",
      "File \u001b[1;32m~\\AppData\\Roaming\\Python\\Python312\\site-packages\\yt_dlp\\YoutubeDL.py:1799\u001b[0m, in \u001b[0;36mYoutubeDL.__extract_info\u001b[1;34m(self, url, ie, download, extra_info, process)\u001b[0m\n\u001b[0;32m   1796\u001b[0m \u001b[38;5;28mself\u001b[39m\u001b[38;5;241m.\u001b[39m_apply_header_cookies(url)\n\u001b[0;32m   1798\u001b[0m \u001b[38;5;28;01mtry\u001b[39;00m:\n\u001b[1;32m-> 1799\u001b[0m     ie_result \u001b[38;5;241m=\u001b[39m ie\u001b[38;5;241m.\u001b[39mextract(url)\n\u001b[0;32m   1800\u001b[0m \u001b[38;5;28;01mexcept\u001b[39;00m UserNotLive \u001b[38;5;28;01mas\u001b[39;00m e:\n\u001b[0;32m   1801\u001b[0m     \u001b[38;5;28;01mif\u001b[39;00m process:\n",
      "File \u001b[1;32m~\\AppData\\Roaming\\Python\\Python312\\site-packages\\yt_dlp\\extractor\\common.py:761\u001b[0m, in \u001b[0;36mInfoExtractor.extract\u001b[1;34m(self, url)\u001b[0m\n\u001b[0;32m    758\u001b[0m \u001b[38;5;28mself\u001b[39m\u001b[38;5;241m.\u001b[39minitialize()\n\u001b[0;32m    759\u001b[0m \u001b[38;5;28mself\u001b[39m\u001b[38;5;241m.\u001b[39mto_screen(\u001b[38;5;124m'\u001b[39m\u001b[38;5;124mExtracting URL: \u001b[39m\u001b[38;5;132;01m%s\u001b[39;00m\u001b[38;5;124m'\u001b[39m \u001b[38;5;241m%\u001b[39m (\n\u001b[0;32m    760\u001b[0m     url \u001b[38;5;28;01mif\u001b[39;00m \u001b[38;5;28mself\u001b[39m\u001b[38;5;241m.\u001b[39mget_param(\u001b[38;5;124m'\u001b[39m\u001b[38;5;124mverbose\u001b[39m\u001b[38;5;124m'\u001b[39m) \u001b[38;5;28;01melse\u001b[39;00m truncate_string(url, \u001b[38;5;241m100\u001b[39m, \u001b[38;5;241m20\u001b[39m)))\n\u001b[1;32m--> 761\u001b[0m ie_result \u001b[38;5;241m=\u001b[39m \u001b[38;5;28mself\u001b[39m\u001b[38;5;241m.\u001b[39m_real_extract(url)\n\u001b[0;32m    762\u001b[0m \u001b[38;5;28;01mif\u001b[39;00m ie_result \u001b[38;5;129;01mis\u001b[39;00m \u001b[38;5;28;01mNone\u001b[39;00m:\n\u001b[0;32m    763\u001b[0m     \u001b[38;5;28;01mreturn\u001b[39;00m \u001b[38;5;28;01mNone\u001b[39;00m\n",
      "File \u001b[1;32m~\\AppData\\Roaming\\Python\\Python312\\site-packages\\yt_dlp\\extractor\\youtube\\_tab.py:54\u001b[0m, in \u001b[0;36mYoutubeTabBaseInfoExtractor.passthrough_smuggled_data.<locals>.wrapper\u001b[1;34m(self, url)\u001b[0m\n\u001b[0;32m     52\u001b[0m \u001b[38;5;28;01mif\u001b[39;00m \u001b[38;5;28mself\u001b[39m\u001b[38;5;241m.\u001b[39mis_music_url(url):\n\u001b[0;32m     53\u001b[0m     smuggled_data[\u001b[38;5;124m'\u001b[39m\u001b[38;5;124mis_music_url\u001b[39m\u001b[38;5;124m'\u001b[39m] \u001b[38;5;241m=\u001b[39m \u001b[38;5;28;01mTrue\u001b[39;00m\n\u001b[1;32m---> 54\u001b[0m info_dict \u001b[38;5;241m=\u001b[39m func(\u001b[38;5;28mself\u001b[39m, url, smuggled_data)\n\u001b[0;32m     55\u001b[0m \u001b[38;5;28;01mif\u001b[39;00m smuggled_data:\n\u001b[0;32m     56\u001b[0m     _smuggle(info_dict, smuggled_data)\n",
      "File \u001b[1;32m~\\AppData\\Roaming\\Python\\Python312\\site-packages\\yt_dlp\\extractor\\youtube\\_tab.py:2177\u001b[0m, in \u001b[0;36mYoutubeTabIE._real_extract\u001b[1;34m(self, url, smuggled_data)\u001b[0m\n\u001b[0;32m   2173\u001b[0m \u001b[38;5;28;01mif\u001b[39;00m \u001b[38;5;129;01mnot\u001b[39;00m \u001b[38;5;28mself\u001b[39m\u001b[38;5;241m.\u001b[39m_yes_playlist(playlist_id, video_id):\n\u001b[0;32m   2174\u001b[0m     \u001b[38;5;28;01mreturn\u001b[39;00m \u001b[38;5;28mself\u001b[39m\u001b[38;5;241m.\u001b[39murl_result(\n\u001b[0;32m   2175\u001b[0m         \u001b[38;5;124mf\u001b[39m\u001b[38;5;124m'\u001b[39m\u001b[38;5;124mhttps://www.youtube.com/watch?v=\u001b[39m\u001b[38;5;132;01m{\u001b[39;00mvideo_id\u001b[38;5;132;01m}\u001b[39;00m\u001b[38;5;124m'\u001b[39m, YoutubeIE, video_id)\n\u001b[1;32m-> 2177\u001b[0m data, ytcfg \u001b[38;5;241m=\u001b[39m \u001b[38;5;28mself\u001b[39m\u001b[38;5;241m.\u001b[39m_extract_data(url, display_id)\n\u001b[0;32m   2179\u001b[0m \u001b[38;5;66;03m# YouTube may provide a non-standard redirect to the regional channel\u001b[39;00m\n\u001b[0;32m   2180\u001b[0m \u001b[38;5;66;03m# See: https://github.com/yt-dlp/yt-dlp/issues/2694\u001b[39;00m\n\u001b[0;32m   2181\u001b[0m \u001b[38;5;66;03m# https://support.google.com/youtube/answer/2976814#zippy=,conditional-redirects\u001b[39;00m\n\u001b[0;32m   2182\u001b[0m redirect_url \u001b[38;5;241m=\u001b[39m traverse_obj(\n\u001b[0;32m   2183\u001b[0m     data, (\u001b[38;5;124m'\u001b[39m\u001b[38;5;124monResponseReceivedActions\u001b[39m\u001b[38;5;124m'\u001b[39m, \u001b[38;5;241m.\u001b[39m\u001b[38;5;241m.\u001b[39m\u001b[38;5;241m.\u001b[39m, \u001b[38;5;124m'\u001b[39m\u001b[38;5;124mnavigateAction\u001b[39m\u001b[38;5;124m'\u001b[39m, \u001b[38;5;124m'\u001b[39m\u001b[38;5;124mendpoint\u001b[39m\u001b[38;5;124m'\u001b[39m, \u001b[38;5;124m'\u001b[39m\u001b[38;5;124mcommandMetadata\u001b[39m\u001b[38;5;124m'\u001b[39m, \u001b[38;5;124m'\u001b[39m\u001b[38;5;124mwebCommandMetadata\u001b[39m\u001b[38;5;124m'\u001b[39m, \u001b[38;5;124m'\u001b[39m\u001b[38;5;124murl\u001b[39m\u001b[38;5;124m'\u001b[39m), get_all\u001b[38;5;241m=\u001b[39m\u001b[38;5;28;01mFalse\u001b[39;00m)\n",
      "File \u001b[1;32m~\\AppData\\Roaming\\Python\\Python312\\site-packages\\yt_dlp\\extractor\\youtube\\_tab.py:928\u001b[0m, in \u001b[0;36mYoutubeTabBaseInfoExtractor._extract_data\u001b[1;34m(self, url, item_id, ytcfg, fatal, webpage_fatal, default_client)\u001b[0m\n\u001b[0;32m    926\u001b[0m data \u001b[38;5;241m=\u001b[39m \u001b[38;5;28;01mNone\u001b[39;00m\n\u001b[0;32m    927\u001b[0m \u001b[38;5;28;01mif\u001b[39;00m \u001b[38;5;129;01mnot\u001b[39;00m \u001b[38;5;28mself\u001b[39m\u001b[38;5;241m.\u001b[39mskip_webpage:\n\u001b[1;32m--> 928\u001b[0m     webpage, data \u001b[38;5;241m=\u001b[39m \u001b[38;5;28mself\u001b[39m\u001b[38;5;241m.\u001b[39m_extract_webpage(url, item_id, fatal\u001b[38;5;241m=\u001b[39mwebpage_fatal)\n\u001b[0;32m    929\u001b[0m     ytcfg \u001b[38;5;241m=\u001b[39m ytcfg \u001b[38;5;129;01mor\u001b[39;00m \u001b[38;5;28mself\u001b[39m\u001b[38;5;241m.\u001b[39mextract_ytcfg(item_id, webpage)\n\u001b[0;32m    930\u001b[0m     \u001b[38;5;66;03m# Reject webpage data if redirected to home page without explicitly requesting\u001b[39;00m\n",
      "File \u001b[1;32m~\\AppData\\Roaming\\Python\\Python312\\site-packages\\yt_dlp\\extractor\\youtube\\_tab.py:888\u001b[0m, in \u001b[0;36mYoutubeTabBaseInfoExtractor._extract_webpage\u001b[1;34m(self, url, item_id, fatal)\u001b[0m\n\u001b[0;32m    886\u001b[0m \u001b[38;5;28;01mfor\u001b[39;00m retry \u001b[38;5;129;01min\u001b[39;00m \u001b[38;5;28mself\u001b[39m\u001b[38;5;241m.\u001b[39mRetryManager(fatal\u001b[38;5;241m=\u001b[39mfatal):\n\u001b[0;32m    887\u001b[0m     \u001b[38;5;28;01mtry\u001b[39;00m:\n\u001b[1;32m--> 888\u001b[0m         webpage \u001b[38;5;241m=\u001b[39m \u001b[38;5;28mself\u001b[39m\u001b[38;5;241m.\u001b[39m_download_webpage(url, item_id, note\u001b[38;5;241m=\u001b[39m\u001b[38;5;124m'\u001b[39m\u001b[38;5;124mDownloading webpage\u001b[39m\u001b[38;5;124m'\u001b[39m)\n\u001b[0;32m    889\u001b[0m         data \u001b[38;5;241m=\u001b[39m \u001b[38;5;28mself\u001b[39m\u001b[38;5;241m.\u001b[39mextract_yt_initial_data(item_id, webpage \u001b[38;5;129;01mor\u001b[39;00m \u001b[38;5;124m'\u001b[39m\u001b[38;5;124m'\u001b[39m, fatal\u001b[38;5;241m=\u001b[39mfatal) \u001b[38;5;129;01mor\u001b[39;00m {}\n\u001b[0;32m    890\u001b[0m     \u001b[38;5;28;01mexcept\u001b[39;00m ExtractorError \u001b[38;5;28;01mas\u001b[39;00m e:\n",
      "File \u001b[1;32m~\\AppData\\Roaming\\Python\\Python312\\site-packages\\yt_dlp\\extractor\\common.py:1198\u001b[0m, in \u001b[0;36mInfoExtractor._download_webpage\u001b[1;34m(self, url_or_request, video_id, note, errnote, fatal, tries, timeout, *args, **kwargs)\u001b[0m\n\u001b[0;32m   1196\u001b[0m \u001b[38;5;28;01mwhile\u001b[39;00m \u001b[38;5;28;01mTrue\u001b[39;00m:\n\u001b[0;32m   1197\u001b[0m     \u001b[38;5;28;01mtry\u001b[39;00m:\n\u001b[1;32m-> 1198\u001b[0m         \u001b[38;5;28;01mreturn\u001b[39;00m \u001b[38;5;28mself\u001b[39m\u001b[38;5;241m.\u001b[39m__download_webpage(url_or_request, video_id, note, errnote, \u001b[38;5;28;01mNone\u001b[39;00m, fatal, \u001b[38;5;241m*\u001b[39margs, \u001b[38;5;241m*\u001b[39m\u001b[38;5;241m*\u001b[39mkwargs)\n\u001b[0;32m   1199\u001b[0m     \u001b[38;5;28;01mexcept\u001b[39;00m IncompleteRead \u001b[38;5;28;01mas\u001b[39;00m e:\n\u001b[0;32m   1200\u001b[0m         try_count \u001b[38;5;241m+\u001b[39m\u001b[38;5;241m=\u001b[39m \u001b[38;5;241m1\u001b[39m\n",
      "File \u001b[1;32m~\\AppData\\Roaming\\Python\\Python312\\site-packages\\yt_dlp\\extractor\\common.py:1149\u001b[0m, in \u001b[0;36mInfoExtractor.__create_download_methods.<locals>.download_content\u001b[1;34m(self, url_or_request, video_id, note, errnote, transform_source, fatal, encoding, data, headers, query, expected_status, impersonate, require_impersonation)\u001b[0m\n\u001b[0;32m   1147\u001b[0m     kwargs\u001b[38;5;241m.\u001b[39mpop(\u001b[38;5;124m'\u001b[39m\u001b[38;5;124mtransform_source\u001b[39m\u001b[38;5;124m'\u001b[39m)\n\u001b[0;32m   1148\u001b[0m \u001b[38;5;66;03m# The method is fetched by name so subclasses can override _download_..._handle\u001b[39;00m\n\u001b[1;32m-> 1149\u001b[0m res \u001b[38;5;241m=\u001b[39m \u001b[38;5;28mgetattr\u001b[39m(\u001b[38;5;28mself\u001b[39m, download_handle\u001b[38;5;241m.\u001b[39m\u001b[38;5;18m__name__\u001b[39m)(url_or_request, video_id, \u001b[38;5;241m*\u001b[39m\u001b[38;5;241m*\u001b[39mkwargs)\n\u001b[0;32m   1150\u001b[0m \u001b[38;5;28;01mreturn\u001b[39;00m res \u001b[38;5;28;01mif\u001b[39;00m res \u001b[38;5;129;01mis\u001b[39;00m \u001b[38;5;28;01mFalse\u001b[39;00m \u001b[38;5;28;01melse\u001b[39;00m res[\u001b[38;5;241m0\u001b[39m]\n",
      "File \u001b[1;32m~\\AppData\\Roaming\\Python\\Python312\\site-packages\\yt_dlp\\extractor\\common.py:972\u001b[0m, in \u001b[0;36mInfoExtractor._download_webpage_handle\u001b[1;34m(self, url_or_request, video_id, note, errnote, fatal, encoding, data, headers, query, expected_status, impersonate, require_impersonation)\u001b[0m\n\u001b[0;32m    969\u001b[0m \u001b[38;5;28;01mif\u001b[39;00m \u001b[38;5;28misinstance\u001b[39m(url_or_request, \u001b[38;5;28mstr\u001b[39m):\n\u001b[0;32m    970\u001b[0m     url_or_request \u001b[38;5;241m=\u001b[39m url_or_request\u001b[38;5;241m.\u001b[39mpartition(\u001b[38;5;124m'\u001b[39m\u001b[38;5;124m#\u001b[39m\u001b[38;5;124m'\u001b[39m)[\u001b[38;5;241m0\u001b[39m]\n\u001b[1;32m--> 972\u001b[0m urlh \u001b[38;5;241m=\u001b[39m \u001b[38;5;28mself\u001b[39m\u001b[38;5;241m.\u001b[39m_request_webpage(url_or_request, video_id, note, errnote, fatal, data\u001b[38;5;241m=\u001b[39mdata,\n\u001b[0;32m    973\u001b[0m                              headers\u001b[38;5;241m=\u001b[39mheaders, query\u001b[38;5;241m=\u001b[39mquery, expected_status\u001b[38;5;241m=\u001b[39mexpected_status,\n\u001b[0;32m    974\u001b[0m                              impersonate\u001b[38;5;241m=\u001b[39mimpersonate, require_impersonation\u001b[38;5;241m=\u001b[39mrequire_impersonation)\n\u001b[0;32m    975\u001b[0m \u001b[38;5;28;01mif\u001b[39;00m urlh \u001b[38;5;129;01mis\u001b[39;00m \u001b[38;5;28;01mFalse\u001b[39;00m:\n\u001b[0;32m    976\u001b[0m     \u001b[38;5;28;01massert\u001b[39;00m \u001b[38;5;129;01mnot\u001b[39;00m fatal\n",
      "File \u001b[1;32m~\\AppData\\Roaming\\Python\\Python312\\site-packages\\yt_dlp\\extractor\\youtube\\_base.py:769\u001b[0m, in \u001b[0;36mYoutubeBaseInfoExtractor._request_webpage\u001b[1;34m(self, *args, **kwargs)\u001b[0m\n\u001b[0;32m    768\u001b[0m \u001b[38;5;28;01mdef\u001b[39;00m \u001b[38;5;21m_request_webpage\u001b[39m(\u001b[38;5;28mself\u001b[39m, \u001b[38;5;241m*\u001b[39margs, \u001b[38;5;241m*\u001b[39m\u001b[38;5;241m*\u001b[39mkwargs):\n\u001b[1;32m--> 769\u001b[0m     response \u001b[38;5;241m=\u001b[39m \u001b[38;5;28msuper\u001b[39m()\u001b[38;5;241m.\u001b[39m_request_webpage(\u001b[38;5;241m*\u001b[39margs, \u001b[38;5;241m*\u001b[39m\u001b[38;5;241m*\u001b[39mkwargs)\n\u001b[0;32m    771\u001b[0m     \u001b[38;5;66;03m# Check that we are still logged-in and cookies have not rotated after every request\u001b[39;00m\n\u001b[0;32m    772\u001b[0m     \u001b[38;5;28;01mif\u001b[39;00m \u001b[38;5;28mgetattr\u001b[39m(\u001b[38;5;28mself\u001b[39m, \u001b[38;5;124m'\u001b[39m\u001b[38;5;124m_passed_auth_cookies\u001b[39m\u001b[38;5;124m'\u001b[39m, \u001b[38;5;28;01mNone\u001b[39;00m) \u001b[38;5;129;01mand\u001b[39;00m \u001b[38;5;129;01mnot\u001b[39;00m \u001b[38;5;28mself\u001b[39m\u001b[38;5;241m.\u001b[39m_has_auth_cookies:\n",
      "File \u001b[1;32m~\\AppData\\Roaming\\Python\\Python312\\site-packages\\yt_dlp\\extractor\\common.py:908\u001b[0m, in \u001b[0;36mInfoExtractor._request_webpage\u001b[1;34m(self, url_or_request, video_id, note, errnote, fatal, data, headers, query, expected_status, impersonate, require_impersonation)\u001b[0m\n\u001b[0;32m    904\u001b[0m     \u001b[38;5;28mself\u001b[39m\u001b[38;5;241m.\u001b[39mreport_warning(\n\u001b[0;32m    905\u001b[0m         \u001b[38;5;28mself\u001b[39m\u001b[38;5;241m.\u001b[39m_downloader\u001b[38;5;241m.\u001b[39m_unavailable_targets_message(requested_targets, note\u001b[38;5;241m=\u001b[39mmsg), only_once\u001b[38;5;241m=\u001b[39m\u001b[38;5;28;01mTrue\u001b[39;00m)\n\u001b[0;32m    907\u001b[0m \u001b[38;5;28;01mtry\u001b[39;00m:\n\u001b[1;32m--> 908\u001b[0m     \u001b[38;5;28;01mreturn\u001b[39;00m \u001b[38;5;28mself\u001b[39m\u001b[38;5;241m.\u001b[39m_downloader\u001b[38;5;241m.\u001b[39murlopen(\u001b[38;5;28mself\u001b[39m\u001b[38;5;241m.\u001b[39m_create_request(url_or_request, data, headers, query, extensions))\n\u001b[0;32m    909\u001b[0m \u001b[38;5;28;01mexcept\u001b[39;00m network_exceptions \u001b[38;5;28;01mas\u001b[39;00m err:\n\u001b[0;32m    910\u001b[0m     \u001b[38;5;28;01mif\u001b[39;00m \u001b[38;5;28misinstance\u001b[39m(err, HTTPError):\n",
      "File \u001b[1;32m~\\AppData\\Roaming\\Python\\Python312\\site-packages\\yt_dlp\\YoutubeDL.py:4236\u001b[0m, in \u001b[0;36mYoutubeDL.urlopen\u001b[1;34m(self, req)\u001b[0m\n\u001b[0;32m   4233\u001b[0m clean_headers(req\u001b[38;5;241m.\u001b[39mheaders)\n\u001b[0;32m   4235\u001b[0m \u001b[38;5;28;01mtry\u001b[39;00m:\n\u001b[1;32m-> 4236\u001b[0m     \u001b[38;5;28;01mreturn\u001b[39;00m \u001b[38;5;28mself\u001b[39m\u001b[38;5;241m.\u001b[39m_request_director\u001b[38;5;241m.\u001b[39msend(req)\n\u001b[0;32m   4237\u001b[0m \u001b[38;5;28;01mexcept\u001b[39;00m NoSupportingHandlers \u001b[38;5;28;01mas\u001b[39;00m e:\n\u001b[0;32m   4238\u001b[0m     \u001b[38;5;28;01mfor\u001b[39;00m ue \u001b[38;5;129;01min\u001b[39;00m e\u001b[38;5;241m.\u001b[39munsupported_errors:\n\u001b[0;32m   4239\u001b[0m         \u001b[38;5;66;03m# FIXME: This depends on the order of errors.\u001b[39;00m\n",
      "File \u001b[1;32m~\\AppData\\Roaming\\Python\\Python312\\site-packages\\yt_dlp\\networking\\common.py:117\u001b[0m, in \u001b[0;36mRequestDirector.send\u001b[1;34m(self, request)\u001b[0m\n\u001b[0;32m    115\u001b[0m \u001b[38;5;28mself\u001b[39m\u001b[38;5;241m.\u001b[39m_print_verbose(\u001b[38;5;124mf\u001b[39m\u001b[38;5;124m'\u001b[39m\u001b[38;5;124mSending request via \u001b[39m\u001b[38;5;124m\"\u001b[39m\u001b[38;5;132;01m{\u001b[39;00mhandler\u001b[38;5;241m.\u001b[39mRH_NAME\u001b[38;5;132;01m}\u001b[39;00m\u001b[38;5;124m\"\u001b[39m\u001b[38;5;124m'\u001b[39m)\n\u001b[0;32m    116\u001b[0m \u001b[38;5;28;01mtry\u001b[39;00m:\n\u001b[1;32m--> 117\u001b[0m     response \u001b[38;5;241m=\u001b[39m handler\u001b[38;5;241m.\u001b[39msend(request)\n\u001b[0;32m    118\u001b[0m \u001b[38;5;28;01mexcept\u001b[39;00m RequestError:\n\u001b[0;32m    119\u001b[0m     \u001b[38;5;28;01mraise\u001b[39;00m\n",
      "File \u001b[1;32m~\\AppData\\Roaming\\Python\\Python312\\site-packages\\yt_dlp\\networking\\_helper.py:194\u001b[0m, in \u001b[0;36mwrap_request_errors.<locals>.wrapper\u001b[1;34m(self, *args, **kwargs)\u001b[0m\n\u001b[0;32m    191\u001b[0m \u001b[38;5;129m@functools\u001b[39m\u001b[38;5;241m.\u001b[39mwraps(func)\n\u001b[0;32m    192\u001b[0m \u001b[38;5;28;01mdef\u001b[39;00m \u001b[38;5;21mwrapper\u001b[39m(\u001b[38;5;28mself\u001b[39m, \u001b[38;5;241m*\u001b[39margs, \u001b[38;5;241m*\u001b[39m\u001b[38;5;241m*\u001b[39mkwargs):\n\u001b[0;32m    193\u001b[0m     \u001b[38;5;28;01mtry\u001b[39;00m:\n\u001b[1;32m--> 194\u001b[0m         \u001b[38;5;28;01mreturn\u001b[39;00m func(\u001b[38;5;28mself\u001b[39m, \u001b[38;5;241m*\u001b[39margs, \u001b[38;5;241m*\u001b[39m\u001b[38;5;241m*\u001b[39mkwargs)\n\u001b[0;32m    195\u001b[0m     \u001b[38;5;28;01mexcept\u001b[39;00m RequestError \u001b[38;5;28;01mas\u001b[39;00m e:\n\u001b[0;32m    196\u001b[0m         \u001b[38;5;28;01mif\u001b[39;00m e\u001b[38;5;241m.\u001b[39mhandler \u001b[38;5;129;01mis\u001b[39;00m \u001b[38;5;28;01mNone\u001b[39;00m:\n",
      "File \u001b[1;32m~\\AppData\\Roaming\\Python\\Python312\\site-packages\\yt_dlp\\networking\\common.py:359\u001b[0m, in \u001b[0;36mRequestHandler.send\u001b[1;34m(self, request)\u001b[0m\n\u001b[0;32m    357\u001b[0m \u001b[38;5;28;01mif\u001b[39;00m \u001b[38;5;129;01mnot\u001b[39;00m \u001b[38;5;28misinstance\u001b[39m(request, Request):\n\u001b[0;32m    358\u001b[0m     \u001b[38;5;28;01mraise\u001b[39;00m \u001b[38;5;167;01mTypeError\u001b[39;00m(\u001b[38;5;124m'\u001b[39m\u001b[38;5;124mExpected an instance of Request\u001b[39m\u001b[38;5;124m'\u001b[39m)\n\u001b[1;32m--> 359\u001b[0m \u001b[38;5;28;01mreturn\u001b[39;00m \u001b[38;5;28mself\u001b[39m\u001b[38;5;241m.\u001b[39m_send(request)\n",
      "File \u001b[1;32m~\\AppData\\Roaming\\Python\\Python312\\site-packages\\yt_dlp\\networking\\_requests.py:332\u001b[0m, in \u001b[0;36mRequestsRH._send\u001b[1;34m(self, request)\u001b[0m\n\u001b[0;32m    329\u001b[0m headers \u001b[38;5;241m=\u001b[39m \u001b[38;5;28mself\u001b[39m\u001b[38;5;241m.\u001b[39m_get_headers(request)\n\u001b[0;32m    330\u001b[0m max_redirects_exceeded \u001b[38;5;241m=\u001b[39m \u001b[38;5;28;01mFalse\u001b[39;00m\n\u001b[1;32m--> 332\u001b[0m session \u001b[38;5;241m=\u001b[39m \u001b[38;5;28mself\u001b[39m\u001b[38;5;241m.\u001b[39m_get_instance(\n\u001b[0;32m    333\u001b[0m     cookiejar\u001b[38;5;241m=\u001b[39m\u001b[38;5;28mself\u001b[39m\u001b[38;5;241m.\u001b[39m_get_cookiejar(request),\n\u001b[0;32m    334\u001b[0m     legacy_ssl_support\u001b[38;5;241m=\u001b[39mrequest\u001b[38;5;241m.\u001b[39mextensions\u001b[38;5;241m.\u001b[39mget(\u001b[38;5;124m'\u001b[39m\u001b[38;5;124mlegacy_ssl\u001b[39m\u001b[38;5;124m'\u001b[39m),\n\u001b[0;32m    335\u001b[0m )\n\u001b[0;32m    337\u001b[0m \u001b[38;5;28;01mtry\u001b[39;00m:\n\u001b[0;32m    338\u001b[0m     requests_res \u001b[38;5;241m=\u001b[39m session\u001b[38;5;241m.\u001b[39mrequest(\n\u001b[0;32m    339\u001b[0m         method\u001b[38;5;241m=\u001b[39mrequest\u001b[38;5;241m.\u001b[39mmethod,\n\u001b[0;32m    340\u001b[0m         url\u001b[38;5;241m=\u001b[39mrequest\u001b[38;5;241m.\u001b[39murl,\n\u001b[1;32m   (...)\u001b[0m\n\u001b[0;32m    346\u001b[0m         stream\u001b[38;5;241m=\u001b[39m\u001b[38;5;28;01mTrue\u001b[39;00m,\n\u001b[0;32m    347\u001b[0m     )\n",
      "File \u001b[1;32m~\\AppData\\Roaming\\Python\\Python312\\site-packages\\yt_dlp\\networking\\_helper.py:171\u001b[0m, in \u001b[0;36mInstanceStoreMixin._get_instance\u001b[1;34m(self, **kwargs)\u001b[0m\n\u001b[0;32m    168\u001b[0m     \u001b[38;5;28;01mif\u001b[39;00m key \u001b[38;5;241m==\u001b[39m kwargs:\n\u001b[0;32m    169\u001b[0m         \u001b[38;5;28;01mreturn\u001b[39;00m instance\n\u001b[1;32m--> 171\u001b[0m instance \u001b[38;5;241m=\u001b[39m \u001b[38;5;28mself\u001b[39m\u001b[38;5;241m.\u001b[39m_create_instance(\u001b[38;5;241m*\u001b[39m\u001b[38;5;241m*\u001b[39mkwargs)\n\u001b[0;32m    172\u001b[0m \u001b[38;5;28mself\u001b[39m\u001b[38;5;241m.\u001b[39m__instances\u001b[38;5;241m.\u001b[39mappend((kwargs, instance))\n\u001b[0;32m    173\u001b[0m \u001b[38;5;28;01mreturn\u001b[39;00m instance\n",
      "File \u001b[1;32m~\\AppData\\Roaming\\Python\\Python312\\site-packages\\yt_dlp\\networking\\_requests.py:311\u001b[0m, in \u001b[0;36mRequestsRH._create_instance\u001b[1;34m(self, cookiejar, legacy_ssl_support)\u001b[0m\n\u001b[0;32m    308\u001b[0m \u001b[38;5;28;01mdef\u001b[39;00m \u001b[38;5;21m_create_instance\u001b[39m(\u001b[38;5;28mself\u001b[39m, cookiejar, legacy_ssl_support\u001b[38;5;241m=\u001b[39m\u001b[38;5;28;01mNone\u001b[39;00m):\n\u001b[0;32m    309\u001b[0m     session \u001b[38;5;241m=\u001b[39m RequestsSession()\n\u001b[0;32m    310\u001b[0m     http_adapter \u001b[38;5;241m=\u001b[39m RequestsHTTPAdapter(\n\u001b[1;32m--> 311\u001b[0m         ssl_context\u001b[38;5;241m=\u001b[39m\u001b[38;5;28mself\u001b[39m\u001b[38;5;241m.\u001b[39m_make_sslcontext(legacy_ssl_support\u001b[38;5;241m=\u001b[39mlegacy_ssl_support),\n\u001b[0;32m    312\u001b[0m         source_address\u001b[38;5;241m=\u001b[39m\u001b[38;5;28mself\u001b[39m\u001b[38;5;241m.\u001b[39msource_address,\n\u001b[0;32m    313\u001b[0m         max_retries\u001b[38;5;241m=\u001b[39murllib3\u001b[38;5;241m.\u001b[39mutil\u001b[38;5;241m.\u001b[39mretry\u001b[38;5;241m.\u001b[39mRetry(\u001b[38;5;28;01mFalse\u001b[39;00m),\n\u001b[0;32m    314\u001b[0m     )\n\u001b[0;32m    315\u001b[0m     session\u001b[38;5;241m.\u001b[39madapters\u001b[38;5;241m.\u001b[39mclear()\n\u001b[0;32m    316\u001b[0m     session\u001b[38;5;241m.\u001b[39mheaders \u001b[38;5;241m=\u001b[39m requests\u001b[38;5;241m.\u001b[39mmodels\u001b[38;5;241m.\u001b[39mCaseInsensitiveDict()\n",
      "File \u001b[1;32m~\\AppData\\Roaming\\Python\\Python312\\site-packages\\yt_dlp\\networking\\common.py:253\u001b[0m, in \u001b[0;36mRequestHandler._make_sslcontext\u001b[1;34m(self, legacy_ssl_support)\u001b[0m\n\u001b[0;32m    252\u001b[0m \u001b[38;5;28;01mdef\u001b[39;00m \u001b[38;5;21m_make_sslcontext\u001b[39m(\u001b[38;5;28mself\u001b[39m, legacy_ssl_support\u001b[38;5;241m=\u001b[39m\u001b[38;5;28;01mNone\u001b[39;00m):\n\u001b[1;32m--> 253\u001b[0m     \u001b[38;5;28;01mreturn\u001b[39;00m make_ssl_context(\n\u001b[0;32m    254\u001b[0m         verify\u001b[38;5;241m=\u001b[39m\u001b[38;5;28mself\u001b[39m\u001b[38;5;241m.\u001b[39mverify,\n\u001b[0;32m    255\u001b[0m         legacy_support\u001b[38;5;241m=\u001b[39mlegacy_ssl_support \u001b[38;5;28;01mif\u001b[39;00m legacy_ssl_support \u001b[38;5;129;01mis\u001b[39;00m \u001b[38;5;129;01mnot\u001b[39;00m \u001b[38;5;28;01mNone\u001b[39;00m \u001b[38;5;28;01melse\u001b[39;00m \u001b[38;5;28mself\u001b[39m\u001b[38;5;241m.\u001b[39mlegacy_ssl_support,\n\u001b[0;32m    256\u001b[0m         use_certifi\u001b[38;5;241m=\u001b[39m\u001b[38;5;129;01mnot\u001b[39;00m \u001b[38;5;28mself\u001b[39m\u001b[38;5;241m.\u001b[39mprefer_system_certs,\n\u001b[0;32m    257\u001b[0m         \u001b[38;5;241m*\u001b[39m\u001b[38;5;241m*\u001b[39m\u001b[38;5;28mself\u001b[39m\u001b[38;5;241m.\u001b[39m_client_cert,\n\u001b[0;32m    258\u001b[0m     )\n",
      "File \u001b[1;32m~\\AppData\\Roaming\\Python\\Python312\\site-packages\\yt_dlp\\networking\\_helper.py:121\u001b[0m, in \u001b[0;36mmake_ssl_context\u001b[1;34m(verify, client_certificate, client_certificate_key, client_certificate_password, legacy_support, use_certifi)\u001b[0m\n\u001b[0;32m    119\u001b[0m     context\u001b[38;5;241m.\u001b[39mset_alpn_protocols([\u001b[38;5;124m'\u001b[39m\u001b[38;5;124mhttp/1.1\u001b[39m\u001b[38;5;124m'\u001b[39m])\n\u001b[0;32m    120\u001b[0m \u001b[38;5;28;01mif\u001b[39;00m verify:\n\u001b[1;32m--> 121\u001b[0m     ssl_load_certs(context, use_certifi)\n\u001b[0;32m    123\u001b[0m \u001b[38;5;28;01mif\u001b[39;00m legacy_support:\n\u001b[0;32m    124\u001b[0m     context\u001b[38;5;241m.\u001b[39moptions \u001b[38;5;241m|\u001b[39m\u001b[38;5;241m=\u001b[39m \u001b[38;5;241m4\u001b[39m  \u001b[38;5;66;03m# SSL_OP_LEGACY_SERVER_CONNECT\u001b[39;00m\n",
      "File \u001b[1;32m~\\AppData\\Roaming\\Python\\Python312\\site-packages\\yt_dlp\\networking\\_helper.py:25\u001b[0m, in \u001b[0;36mssl_load_certs\u001b[1;34m(context, use_certifi)\u001b[0m\n\u001b[0;32m     23\u001b[0m \u001b[38;5;28;01mdef\u001b[39;00m \u001b[38;5;21mssl_load_certs\u001b[39m(context: ssl\u001b[38;5;241m.\u001b[39mSSLContext, use_certifi\u001b[38;5;241m=\u001b[39m\u001b[38;5;28;01mTrue\u001b[39;00m):\n\u001b[0;32m     24\u001b[0m     \u001b[38;5;28;01mif\u001b[39;00m certifi \u001b[38;5;129;01mand\u001b[39;00m use_certifi:\n\u001b[1;32m---> 25\u001b[0m         context\u001b[38;5;241m.\u001b[39mload_verify_locations(cafile\u001b[38;5;241m=\u001b[39mcertifi\u001b[38;5;241m.\u001b[39mwhere())\n\u001b[0;32m     26\u001b[0m     \u001b[38;5;28;01melse\u001b[39;00m:\n\u001b[0;32m     27\u001b[0m         \u001b[38;5;28;01mtry\u001b[39;00m:\n",
      "\u001b[1;31mKeyboardInterrupt\u001b[0m: "
     ]
    }
   ],
   "source": [
    "import os\n",
    "import time\n",
    "from yt_dlp import YoutubeDL\n",
    "import sys\n",
    "import json\n",
    "\n",
    "with open('ytmp3_config.json', 'r', encoding='utf-8') as f:\n",
    "    config = json.load(f)\n",
    "\n",
    "FAVORITES_URL = config['FAVORITES']['url']\n",
    "DESTINATION_FOLDER = config['PATHS']['destination_folder']\n",
    "FFMPEG_LOCATION = config['PATHS']['ffmpeg_location']\n",
    "INTERVAL_MINUTES = int(config['SETTINGS']['interval_minutes'])\n",
    "SESSION_GROUP_ID = config['SETTINGS']['session_group_id']\n",
    "HISTORY_FILE = f\"{SESSION_GROUP_ID}_downloaded.txt\"\n",
    "\n",
    "# ======================\n",
    "\n",
    "def load_history():\n",
    "    if os.path.exists(HISTORY_FILE):\n",
    "        with open(HISTORY_FILE, \"r\", encoding=\"utf-8\") as f:\n",
    "            return set(line.strip() for line in f.readlines())\n",
    "    return set()\n",
    "\n",
    "def count_downloaded_files():\n",
    "    if os.path.exists(HISTORY_FILE):\n",
    "        with open(HISTORY_FILE, \"r\", encoding=\"utf-8\") as f:\n",
    "            lines = f.readlines()\n",
    "            return len(lines) + 1\n",
    "    else:\n",
    "        return 1\n",
    "\n",
    "def save_to_history(video_id):\n",
    "    with open(HISTORY_FILE, \"a\", encoding=\"utf-8\") as f:\n",
    "        f.write(f\"{video_id}\\n\")\n",
    "\n",
    "def get_new_videos():\n",
    "    ydl_opts = {\n",
    "        'quiet': True,\n",
    "        'extract_flat': True,\n",
    "        'force_generic_extractor': True,\n",
    "    }\n",
    "\n",
    "    with YoutubeDL(ydl_opts) as ydl:\n",
    "        info = ydl.extract_info(FAVORITES_URL, download=False)\n",
    "        entries = info.get(\"entries\", [])\n",
    "        entries.reverse()  # To get the oldest videos first\n",
    "        return [(entry['id'], entry['title']) for entry in entries]\n",
    "\n",
    "def download_audio(video_id, file_number):\n",
    "    url = f\"https://www.youtube.com/watch?v={video_id}\"\n",
    "    ydl_opts = {\n",
    "        'format': 'bestaudio/best',\n",
    "        \"outtmpl\" : os.path.join(DESTINATION_FOLDER, f\"{SESSION_GROUP_ID}{file_number}#%(title)s.%(ext)s\"),\n",
    "        'ffmpeg_location': r\"E:\\T\\Programming\\Jupyter\\Codes\\YT-MP3\",  # <== CHANGE to your exact path\n",
    "        'postprocessors': [{\n",
    "            'key': 'FFmpegExtractAudio',\n",
    "            'preferredcodec': 'mp3',\n",
    "            'preferredquality': '320',\n",
    "        }],\n",
    "        'quiet': False,\n",
    "    }\n",
    "\n",
    "    with YoutubeDL(ydl_opts) as ydl:\n",
    "        ydl.download([url])\n",
    "\n",
    "def main():\n",
    "    print(\"Starting YouTube favorites monitor...\")\n",
    "    downloaded = load_history()\n",
    "\n",
    "    while True:\n",
    "        try:\n",
    "            new_videos = get_new_videos()\n",
    "            for video_id, title in new_videos:\n",
    "                if video_id not in downloaded:\n",
    "                    print(f\"New video: {title}. Downloading...\")\n",
    "                    file_number = count_downloaded_files()\n",
    "                    print(f\"Downloading file number: {file_number}\")\n",
    "                    download_audio(video_id, file_number)\n",
    "                    save_to_history(video_id)\n",
    "                    downloaded.add(video_id)\n",
    "            print(f\"Waiting {INTERVAL_MINUTES} minutes...\")\n",
    "        except Exception as e:\n",
    "            print(f\"Error: {e}\")\n",
    "        time.sleep(INTERVAL_MINUTES * 60)\n",
    "\n",
    "if __name__ == \"__main__\":\n",
    "    main()\n"
   ]
  }
 ],
 "metadata": {
  "kernelspec": {
   "display_name": "base",
   "language": "python",
   "name": "python3"
  },
  "language_info": {
   "codemirror_mode": {
    "name": "ipython",
    "version": 3
   },
   "file_extension": ".py",
   "mimetype": "text/x-python",
   "name": "python",
   "nbconvert_exporter": "python",
   "pygments_lexer": "ipython3",
   "version": "3.12.7"
  }
 },
 "nbformat": 4,
 "nbformat_minor": 5
}
